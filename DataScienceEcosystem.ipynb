{
 "cells": [
  {
   "cell_type": "markdown",
   "id": "6d0f2f18-c065-4035-838c-0df9aa06e48c",
   "metadata": {},
   "source": [
    "# Data Science Tools and Ecosystem"
   ]
  },
  {
   "cell_type": "markdown",
   "id": "0c0a8d0e-9e96-4fd7-a0d9-e56a15269fd8",
   "metadata": {},
   "source": [
    "## In this notebook, Data Science Tools and Ecosystem are summarized."
   ]
  },
  {
   "cell_type": "markdown",
   "id": "d2a6ffe2-d46e-4a9a-860b-107a8dc4c5ec",
   "metadata": {
    "tags": []
   },
   "source": [
    "### Some of the popular languages that Data Scientist use are: \n",
    "* Pyhton\n",
    "* R\n",
    "* SQL\n",
    "* Scala\n",
    "* Java"
   ]
  },
  {
   "cell_type": "markdown",
   "id": "033c49dc-5634-498e-b1c2-7b48616e3796",
   "metadata": {},
   "source": [
    "Objectives:\n",
    "* List some popular Languages used by data science\n",
    "* List come commonly used data science library\n",
    "* List some common data science tools\n",
    "* Perform some simple arithmetic operations"
   ]
  },
  {
   "cell_type": "markdown",
   "id": "06cb3017-bc3c-4109-a3c7-5b412521213e",
   "metadata": {},
   "source": [
    "#### Some of the commonly used libraries used by Data Scientists include:\n",
    "* ggplot\n",
    "* Scikit-learn\n",
    "* TensorFlow\n",
    "* Matplotlib"
   ]
  },
  {
   "cell_type": "markdown",
   "id": "86c49ebd-d6cd-40e8-a9e1-b04ea88b1740",
   "metadata": {},
   "source": [
    "|Data Science Tools|\n",
    "|----|\n",
    "|MySQL|\n",
    "|Pixie Dust|\n",
    "|Kubernetes|"
   ]
  },
  {
   "cell_type": "markdown",
   "id": "c67e4364-ab20-4e7c-86df-1816d96508a9",
   "metadata": {},
   "source": [
    "### Below are a few examples of evaluating arithmetic expressions in Python"
   ]
  },
  {
   "cell_type": "code",
   "execution_count": 3,
   "id": "9eb81adb-b3b0-4dc1-94b3-37a058226fc1",
   "metadata": {
    "tags": []
   },
   "outputs": [
    {
     "data": {
      "text/plain": [
       "17"
      ]
     },
     "execution_count": 3,
     "metadata": {},
     "output_type": "execute_result"
    }
   ],
   "source": [
    "#  This a simple arithmetic expression to mutiply then add integers\n",
    "\n",
    "(3*4)+5"
   ]
  },
  {
   "cell_type": "code",
   "execution_count": 4,
   "id": "57c6e7dd-9887-40b4-b055-d88b972a3297",
   "metadata": {
    "tags": []
   },
   "outputs": [
    {
     "data": {
      "text/plain": [
       "3.3333333333333335"
      ]
     },
     "execution_count": 4,
     "metadata": {},
     "output_type": "execute_result"
    }
   ],
   "source": [
    "# This will convert 200 minutes to hours by diving by 60\n",
    "\n",
    "200/60"
   ]
  },
  {
   "cell_type": "markdown",
   "id": "2d508b8f-2501-4b15-936b-90dffe9c578e",
   "metadata": {},
   "source": [
    "## Author \n",
    "Amritpal Singh"
   ]
  },
  {
   "cell_type": "code",
   "execution_count": null,
   "id": "3c4432a2-cac6-4aef-ae97-5bd223734de7",
   "metadata": {},
   "outputs": [],
   "source": []
  }
 ],
 "metadata": {
  "kernelspec": {
   "display_name": "Python",
   "language": "python",
   "name": "conda-env-python-py"
  },
  "language_info": {
   "codemirror_mode": {
    "name": "ipython",
    "version": 3
   },
   "file_extension": ".py",
   "mimetype": "text/x-python",
   "name": "python",
   "nbconvert_exporter": "python",
   "pygments_lexer": "ipython3",
   "version": "3.7.12"
  }
 },
 "nbformat": 4,
 "nbformat_minor": 5
}
